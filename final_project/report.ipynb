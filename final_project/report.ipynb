{
 "cells": [
  {
   "cell_type": "markdown",
   "metadata": {},
   "source": [
    "Identifying Fraud from Enron Email\n",
    "=================="
   ]
  },
  {
   "cell_type": "markdown",
   "metadata": {},
   "source": [
    "1. Understanding the Dataset\n",
    "--------------------------"
   ]
  },
  {
   "cell_type": "markdown",
   "metadata": {},
   "source": [
    "###  1.1 Data exploration"
   ]
  },
  {
   "cell_type": "code",
   "execution_count": 1,
   "metadata": {
    "collapsed": false
   },
   "outputs": [
    {
     "name": "stdout",
     "output_type": "stream",
     "text": [
      "Number of data points: 146\n",
      "Number of POIs: 18\n",
      "Number of non-POIs: 128\n",
      "Number of features: 21\n",
      "Number of missing features:\n",
      "   loan_advances : 142\n",
      "   director_fees : 129\n",
      "   restricted_stock_deferred : 128\n",
      "   deferral_payments : 107\n",
      "   deferred_income : 97\n",
      "   long_term_incentive : 80\n",
      "   bonus : 64\n",
      "   to_messages : 60\n",
      "   shared_receipt_with_poi : 60\n",
      "   from_messages : 60\n",
      "   from_this_person_to_poi : 60\n",
      "   from_poi_to_this_person : 60\n",
      "   other : 53\n",
      "   salary : 51\n",
      "   expenses : 51\n",
      "   exercised_stock_options : 44\n",
      "   restricted_stock : 36\n",
      "   email_address : 35\n",
      "   total_payments : 21\n",
      "   total_stock_value : 20\n",
      "   poi : 0\n"
     ]
    }
   ],
   "source": [
    "import cPickle\n",
    "enron_data = cPickle.load(open(\"final_project_dataset.pkl\", 'r'))\n",
    "\n",
    "poi_count = 0\n",
    "non_poi_count = 0\n",
    "for p in enron_data.values():\n",
    "    if p[\"poi\"]:\n",
    "        poi_count += 1\n",
    "    else:\n",
    "        non_poi_count += 1\n",
    "        \n",
    "# Get an example (the first) data point.\n",
    "eg = enron_data.itervalues().next()\n",
    "\n",
    "print \"Number of data points:\", len(enron_data)\n",
    "print \"Number of POIs:\", poi_count\n",
    "print \"Number of non-POIs:\", non_poi_count\n",
    "print \"Number of features:\", len(eg)\n",
    "\n",
    "def missing_count(enron_data, feature):\n",
    "    \"\"\"Return number of missing values of `feature`.\"\"\"\n",
    "    count = 0\n",
    "    for p in enron_data:\n",
    "        if enron_data[p][feature] == \"NaN\":\n",
    "            count += 1\n",
    "    return count\n",
    "\n",
    "missing_counts = [(f, missing_count(enron_data, f)) for f in eg]\n",
    "print \"Number of missing features:\"\n",
    "for f,c in sorted(missing_counts, key = lambda x: x[1], reverse = True):\n",
    "    print \"  \", f, \":\", c"
   ]
  },
  {
   "cell_type": "markdown",
   "metadata": {},
   "source": [
    "From the results above, we see that there are 146 total number of data points, 18 of which are POI and the rest 128 are non-POI. (Note that there is one outlier data point named `TOTAL` which is actually not a person, as will be explained in Section 1.2).\n",
    "\n",
    "There are 21 features provided by the `final_project_dataset.pkl`. Among those features, the `loan_advances`, `director_fees`, `restricted_stock_deferred`, `deferral_payments`, `deferred_income` and `long_term_incentive` have more than half of the data points with missing values. (We will also create new features based on email text, as described in Section 2.1)."
   ]
  },
  {
   "cell_type": "markdown",
   "metadata": {},
   "source": [
    "### 1.2 Outlier investigation"
   ]
  },
  {
   "cell_type": "code",
   "execution_count": 2,
   "metadata": {
    "collapsed": false
   },
   "outputs": [
    {
     "data": {
      "text/plain": [
       "<matplotlib.text.Text at 0x10e874b50>"
      ]
     },
     "execution_count": 2,
     "metadata": {},
     "output_type": "execute_result"
    },
    {
     "data": {
      "image/png": "[encoded data removed]",
      "text/plain": [
       "<matplotlib.figure.Figure at 0x10c346810>"
      ]
     },
     "metadata": {},
     "output_type": "display_data"
    }
   ],
   "source": [
    "%matplotlib inline\n",
    "import sys\n",
    "sys.path.append(\"../tools\")\n",
    "from feature_format import featureFormat, targetFeatureSplit\n",
    "\n",
    "enron_data = cPickle.load(open(\"final_project_dataset.pkl\", 'r'))\n",
    "del enron_data[\"TOTAL\"]\n",
    "\n",
    "features = [\"salary\", \"bonus\"]\n",
    "data = featureFormat(enron_data, features)\n",
    "plt.subplot(211)\n",
    "plt.scatter(data[:,0], data[:,1])\n",
    "for p in enron_data:\n",
    "    salary = enron_data[p][\"salary\"]\n",
    "    bonus = enron_data[p][\"bonus\"]\n",
    "    if salary == \"NaN\" or bonus == \"NaN\":\n",
    "        continue\n",
    "    if (salary > np.percentile(data[:,0], 97) or\n",
    "        bonus > np.percentile(data[:,1], 97)):\n",
    "        plt.text(salary, bonus, p)\n",
    "plt.xlabel(\"Salary\")\n",
    "plt.ylabel(\"Bonus\")\n",
    "\n",
    "features = [\"from_messages\", \"to_messages\"]\n",
    "data = featureFormat(enron_data, features)\n",
    "plt.subplot(212)\n",
    "plt.scatter(data[:,0], data[:,1])\n",
    "for p in enron_data:\n",
    "    from_messages = enron_data[p][\"from_messages\"]\n",
    "    to_messages = enron_data[p][\"to_messages\"]\n",
    "    if from_messages == \"NaN\" or to_messages == \"NaN\":\n",
    "        continue\n",
    "    if (from_messages > np.percentile(data[:,0], 97) or\n",
    "        to_messages > np.percentile(data[:,1], 97)):\n",
    "        plt.text(from_messages, to_messages, p)\n",
    "plt.xlabel(\"From messages\")\n",
    "plt.ylabel(\"To messages\")"
   ]
  },
  {
   "cell_type": "markdown",
   "metadata": {},
   "source": [
    "We found a data point named `TOTAL`, which is not an individual person but the summary of all other persons in the dataset. It is clearly an outlier for our identifying POI purpose, and therefore we directly remove it from the dataset.\n",
    "\n",
    "We also try to detect the outliers for some features. In the `bonus` v.s. `salary` plot, we see that there are 4 outliers: `LAY KENNETH L`, `SKILLING JEFFREY K` and `FREVERT MARK A` made salary over \\$1 million, and `LAVORATO JOHN J` made a bonus \\$8 million.\n",
    "\n",
    "Similary, there are several outliers for the number of emails sent and received, notably `KAMINSKI WINCENTY J` and `SHAPIRO RICHARD S` who sent and received more than 14,000 emails respectively."
   ]
  },
  {
   "cell_type": "markdown",
   "metadata": {},
   "source": [
    "2. Feature Selection\n",
    "-------------------"
   ]
  },
  {
   "cell_type": "markdown",
   "metadata": {},
   "source": [
    "### 2.1 Create new features"
   ]
  },
  {
   "cell_type": "markdown",
   "metadata": {},
   "source": [
    "We will create two new features that characterize the emails sent and received by each person, respectively.\n",
    "\n",
    "We first collect all the emails sent and received by each person and put them in a single text file for further process (two text files per person). This step takes a long time because there are a large number of text files to go through. Once they are collected and aggregated, reading the aggregated text file will be much faster."
   ]
  },
  {
   "cell_type": "code",
   "execution_count": 3,
   "metadata": {
    "collapsed": false
   },
   "outputs": [],
   "source": [
    "import os\n",
    "import cPickle\n",
    "import sys\n",
    "\n",
    "sys.path.append( \"../tools\" )\n",
    "from parse_out_email_text import parseOutText\n",
    "\n",
    "enron_data = cPickle.load(open(\"final_project_dataset.pkl\", 'r'))\n",
    "del enron_data[\"TOTAL\"]\n",
    "\n",
    "# Create two folders to store each person's email.\n",
    "if not os.path.isdir(\"from_emails\"):\n",
    "    os.mkdir(\"from_emails\")\n",
    "if not os.path.isdir(\"to_emails\"):\n",
    "    os.mkdir(\"to_emails\")\n",
    "    \n",
    "def collect_emails(fin, fout):\n",
    "    \"\"\"Collect all the emails from text file `fin`,\n",
    "    and put them together in the output text file `fout`.\"\"\"\n",
    "    if not os.path.exists(fin):\n",
    "        return\n",
    "    with open(fin, 'r') as fi:\n",
    "        with open(fout, 'w') as fo:\n",
    "            for e in fi:\n",
    "                # The email filename is `enron_mail_20110402/maildir/xxxx.\\n` in `fin`,\n",
    "                # we need to convert it to `../maildir/xxxx.`\n",
    "                email = \"..\" + e[len(\"enron_mail_20110402\"):-1]\n",
    "                fo.write(parseOutText(open(email)))\n",
    "\n",
    "for p in enron_data:\n",
    "    email_address = enron_data[p][\"email_address\"]\n",
    "    if email_address == \"NaN\":\n",
    "        continue\n",
    "    \n",
    "    collect_emails(\"emails_by_address/from_\" + email_address + \".txt\",\n",
    "                   \"from_emails/\" + email_address + \".txt\")\n",
    "    collect_emails(\"emails_by_address/to_\" + email_address + \".txt\",\n",
    "                   \"to_emails/\" + email_address + \".txt\")\n",
    "        "
   ]
  },
  {
   "cell_type": "markdown",
   "metadata": {},
   "source": [
    "Now we can load the text files in to memory for further processing."
   ]
  },
  {
   "cell_type": "code",
   "execution_count": 4,
   "metadata": {
    "collapsed": false
   },
   "outputs": [],
   "source": [
    "import cPickle\n",
    "import os\n",
    "\n",
    "enron_data = cPickle.load(open(\"final_project_dataset.pkl\", 'r'))\n",
    "\n",
    "from_emails = []\n",
    "from_emails_key = []\n",
    "to_emails = []\n",
    "to_emails_key =  []\n",
    "\n",
    "for p in enron_data:\n",
    "    email_address = enron_data[p][\"email_address\"]\n",
    "    if email_address == \"NaN\":\n",
    "        continue\n",
    "\n",
    "    from_email = \"from_emails/\" + email_address + \".txt\"\n",
    "    if os.path.exists(from_email):\n",
    "        with open(from_email, 'r') as f:\n",
    "            from_emails.append(\" \".join(f.readlines()))\n",
    "            from_emails_key.append(p)\n",
    "    \n",
    "    to_email = \"to_emails/\" + email_address + \".txt\"\n",
    "    if os.path.exists(to_email):\n",
    "        with open(to_email, 'r') as f:\n",
    "            to_emails.append(\" \".join(f.readlines()))\n",
    "            to_emails_key.append(p)"
   ]
  },
  {
   "cell_type": "markdown",
   "metadata": {},
   "source": [
    "We vectorize text data using tf-idf."
   ]
  },
  {
   "cell_type": "code",
   "execution_count": 5,
   "metadata": {
    "collapsed": false
   },
   "outputs": [],
   "source": [
    "import cPickle\n",
    "from sklearn.feature_extraction.text import TfidfVectorizer\n",
    "\n",
    "from_vectorizer = TfidfVectorizer(stop_words = \"english\")\n",
    "from_vectorizer.fit(from_emails)\n",
    "from_tfidf = from_vectorizer.transform(from_emails)\n",
    "cPickle.dump((from_tfidf, from_emails_key), open(\"from_tfidf.pkl\", 'w'))\n",
    "\n",
    "to_vectorizer = TfidfVectorizer(stop_words = \"english\")\n",
    "to_vectorizer.fit(from_emails)\n",
    "to_tfidf = from_vectorizer.transform(from_emails)\n",
    "cPickle.dump((to_tfidf, to_emails_key), open(\"to_tfidf.pkl\", 'w'))"
   ]
  },
  {
   "cell_type": "markdown",
   "metadata": {},
   "source": [
    "The tf-idf vector contains tens of thousands of entries, which is cumbersome to operate on and to combine with other features. Therefore we perform a dimensionality reduction using PCA, keeping the 10 most important components of each tf-idf vector and use them as our new features."
   ]
  },
  {
   "cell_type": "code",
   "execution_count": 6,
   "metadata": {
    "collapsed": false
   },
   "outputs": [],
   "source": [
    "from sklearn.decomposition import PCA\n",
    "\n",
    "from_tfidf_pca = PCA(n_components = 10).fit_transform(from_tfidf.todense())\n",
    "to_tfidf_pca = PCA(n_components = 10).fit_transform(to_tfidf.todense())\n",
    "\n",
    "cPickle.dump((from_tfidf_pca, from_emails_key), open(\"from_tfidf_pca.pkl\", 'w'))\n",
    "cPickle.dump((to_tfidf_pca, to_emails_key), open(\"to_tfidf_pca.pkl\", 'w'))"
   ]
  },
  {
   "cell_type": "markdown",
   "metadata": {},
   "source": [
    "### 2.2 Intelligently select features"
   ]
  },
  {
   "cell_type": "markdown",
   "metadata": {},
   "source": [
    "We perform feature selection by hand: adding one feature at a time and check whether the added feature improve the performance of a baseline classifier. The baseline classifier we used is naive Bayes classifier with Gaussian distribution, and the performance measure we use is F1 score. The selection procedure is documented as below:"
   ]
  },
  {
   "cell_type": "markdown",
   "metadata": {},
   "source": [
    "  1. Use feature `salary`, F1 score: 0.17718\n",
    "  2. Adding features `from_tfidf_pca` and `to_tfidf_pca`, F1 score: 0.23325\n",
    "  3. Adding feature `bonus`, F1 score: 0.25721\n",
    "  4. Adding feature `total_stock_value`, F1 score: 0.32506\n",
    "  5. Adding feature `total_payments`, F1 score: 0.27499 [score decreased, dropping this feature]\n",
    "  6. Adding feature `restricted_stock`, F1 score: 0.33496\n",
    "  7. Adding feature `exercised_stock_options`, F1 score: 0.36112\n",
    "  8. Adding feature `expenses`, F1 score: 0.36841\n",
    "  9. Adding feature `other`, F1 score: 0.28425 [score decreased, dropping this feature]"
   ]
  },
  {
   "cell_type": "markdown",
   "metadata": {},
   "source": [
    "Therefore, our finally selected features are {`salary`, `from_tfidf_pca`, `to_tfidf_pca`, `bonus`, `total_stock_value`, `restricted_stock`, `exercised_stock_options`, `expenses`}."
   ]
  },
  {
   "cell_type": "markdown",
   "metadata": {},
   "source": [
    "### 2.3 Properly scale features"
   ]
  },
  {
   "cell_type": "markdown",
   "metadata": {},
   "source": [
    "We use decision-tree based algorithms in the following section (or ensemble algorithms with decision tree as the base estimator), which is generally not vulnerable to features being of different ranges, and therefore they do not require an explicit feature scaling."
   ]
  },
  {
   "cell_type": "markdown",
   "metadata": {},
   "source": [
    "3. Choose and Tune an Algorithm\n",
    "-----------------------------"
   ]
  },
  {
   "cell_type": "markdown",
   "metadata": {},
   "source": [
    "### 3.1 Pick an algorithm"
   ]
  },
  {
   "cell_type": "markdown",
   "metadata": {},
   "source": [
    "We tried two different classification algorithms: (1) AdaBoost classifier with decision tree as base estimator, and (2) the decision tree classifier itself. We try several different set of parameters and pick the best ones by hand (this is for comparison between the two algorithms only, the parameter fine tuning is described in the next section), and found that the decision tree classifier works better than AdaBoost in this dataset.\n",
    "\n",
    "More precisely, the AdaBoost classifier (with best hand-picked parameters) we used is the following, with precision 0.26453 and recall 0.30950.\n",
    "\n",
    "    clf = AdaBoostClassifier(DecisionTreeClassifier(max_depth = 1),\n",
    "                           algorithm = \"SAMME\",\n",
    "                           n_estimators = 40,\n",
    "                           learning_rate = 0.5,\n",
    "                           random_state = 13)\n",
    "\n",
    "The decision tree classifier (with best hand-picked parameters) we used is the following, with precision 0.32392 and recall 0.32100.\n",
    "\n",
    "    clf = DecisionTreeClassifier(criterion=\"gini\",\n",
    "                                 max_depth = 50,\n",
    "                                 min_samples_split=2,\n",
    "                                 random_state = 73)\n",
    "\n",
    "        "
   ]
  },
  {
   "cell_type": "markdown",
   "metadata": {},
   "source": [
    "### 3.2 Tune the algorithm"
   ]
  },
  {
   "cell_type": "markdown",
   "metadata": {},
   "source": [
    "We fine-tune the decision tree classifier using a grid search cross validation. In other words, we wrap the classifier with `GridSearchCV`, so that best parameters will be automatically chosen through cross validation. We tuned two parameters for decision tree: \n",
    "* `max_depth`: the maximum depth of the tree. We tried 10, 20 and 50.\n",
    "* `max_features`: The number of features to consider when looking for the best split. We tried `sqrt`, `log2` and `None` (which uses all the features).\n",
    "\n",
    "\n",
    "More precisely, the classifier we use in final analysis is:\n",
    "\n",
    "    params = {\"max_depth\": (10, 20, 50),\n",
    "              \"max_features\": (\"sqrt\", \"log2\", None)}\n",
    "    clf = GridSearchCV(DecisionTreeClassifier(random_state=73), params,\n",
    "                       scoring = \"f1\")"
   ]
  },
  {
   "cell_type": "markdown",
   "metadata": {},
   "source": [
    "4. Validation and Evaluation\n",
    "--------------------------"
   ]
  },
  {
   "cell_type": "markdown",
   "metadata": {},
   "source": [
    "### 4.1 Usage of evaluation metrics"
   ]
  },
  {
   "cell_type": "markdown",
   "metadata": {},
   "source": [
    "We use precision-recall as evaluation metrics.\n",
    "\n",
    "Precision is defined as the fraction of retrieved instances that are relevant, or in our case, amoungst all predicted POIs by the classifier, what percentage are really POIs.\n",
    "\n",
    "Recall is defined as the fraction of relavent instances that are retrieved, or in our case, amoungst all real POIs, what percentage are predicted by the classifier.\n",
    "\n",
    "I found the following figure from Wikipedia (source https://upload.wikimedia.org/wikipedia/commons/2/26/Precisionrecall.svg) particularly helpful to understand these two terms.\n",
    "![precision-recall](Precisionrecall.svg)"
   ]
  },
  {
   "cell_type": "markdown",
   "metadata": {},
   "source": [
    "### 4.2 Validation strategy"
   ]
  },
  {
   "cell_type": "markdown",
   "metadata": {},
   "source": [
    "In the evaluation stage, we use the `StratifiedShuffleSplit` cross validation strategy as implemented in `tester.py`. More specifically, the data is split into training and test set using `StratifiedKFold` method, which preserves the percentage of samples for POI and non-POIs in each fold. During the split, 10% of the data is used for set. The evaluation is performed for 1000 iterations of re-shuffling and splitting, and the aggregated results over all iterations are reported at the end.\n",
    "\n",
    "Furthermore, the (super-)parameters of the model are also chosen using cross validation implemented in `GridSearchCV`, which splits the input data to the classifier into training and validation set, use the training set to fit and validation set to decide which super-parameter achieves the best results."
   ]
  },
  {
   "cell_type": "markdown",
   "metadata": {},
   "source": [
    "### 4.3 Algorithm performance"
   ]
  },
  {
   "cell_type": "markdown",
   "metadata": {},
   "source": [
    "The final algorithm performance is:\n",
    "* Precision: 0.36066\n",
    "* Recall: 0.35200"
   ]
  }
 ],
 "metadata": {
  "kernelspec": {
   "display_name": "Python 2",
   "language": "python",
   "name": "python2"
  },
  "language_info": {
   "codemirror_mode": {
    "name": "ipython",
    "version": 2
   },
   "file_extension": ".py",
   "mimetype": "text/x-python",
   "name": "python",
   "nbconvert_exporter": "python",
   "pygments_lexer": "ipython2",
   "version": "2.7.9"
  }
 },
 "nbformat": 4,
 "nbformat_minor": 0
}
